{
 "cells": [
  {
   "cell_type": "code",
   "execution_count": 1,
   "metadata": {},
   "outputs": [
    {
     "data": {
      "text/html": [
       "<script>requirejs.config({paths: { 'plotly': ['https://cdn.plot.ly/plotly-latest.min']},});if(!window.Plotly) {{require(['plotly'],function(plotly) {window.Plotly=plotly;});}}</script>"
      ],
      "text/vnd.plotly.v1+html": [
       "<script>requirejs.config({paths: { 'plotly': ['https://cdn.plot.ly/plotly-latest.min']},});if(!window.Plotly) {{require(['plotly'],function(plotly) {window.Plotly=plotly;});}}</script>"
      ]
     },
     "metadata": {},
     "output_type": "display_data"
    }
   ],
   "source": [
    "# pandas, geopandas, numpy for working with dataframes and arrays\n",
    "import pandas as pd\n",
    "import geopandas as gpd\n",
    "import numpy as np\n",
    "\n",
    "# matplotlib for basic plots\n",
    "import matplotlib.pyplot as plt\n",
    "%matplotlib inline\n",
    "\n",
    "# plotly for interactive plots\n",
    "import plotly.offline as py\n",
    "from plotly.graph_objs import *\n",
    "from plotly import tools\n",
    "py.init_notebook_mode(connected=True)"
   ]
  },
  {
   "cell_type": "code",
   "execution_count": 2,
   "metadata": {},
   "outputs": [],
   "source": [
    "# set pandas float display to have 2 decimal points and a comma separating every 1000X\n",
    "pd.options.display.float_format = '{:,.2f}'.format"
   ]
  },
  {
   "cell_type": "markdown",
   "metadata": {},
   "source": [
    "## Import government spending data"
   ]
  },
  {
   "cell_type": "code",
   "execution_count": 3,
   "metadata": {},
   "outputs": [
    {
     "ename": "FileNotFoundError",
     "evalue": "File b'GovSpending_25601002_contract_utf8.csv' does not exist",
     "output_type": "error",
     "traceback": [
      "\u001b[0;31m---------------------------------------------------------------------------\u001b[0m",
      "\u001b[0;31mFileNotFoundError\u001b[0m                         Traceback (most recent call last)",
      "\u001b[0;32m<ipython-input-3-9eb2b3aa76b8>\u001b[0m in \u001b[0;36m<module>\u001b[0;34m()\u001b[0m\n\u001b[1;32m      3\u001b[0m govSpendCntrct = pd.read_csv('GovSpending_25601002_contract_utf8.csv', \n\u001b[1;32m      4\u001b[0m                    usecols=['proj_no','proj_name','subdep_name','corp_name',\n\u001b[0;32m----> 5\u001b[0;31m                             'mthd_name', 'typ_name','contrct_price','contrct_date'])\n\u001b[0m\u001b[1;32m      6\u001b[0m \u001b[0;34m\u001b[0m\u001b[0m\n\u001b[1;32m      7\u001b[0m \u001b[0msubdep_provnc\u001b[0m \u001b[0;34m=\u001b[0m \u001b[0mpd\u001b[0m\u001b[0;34m.\u001b[0m\u001b[0mread_csv\u001b[0m\u001b[0;34m(\u001b[0m\u001b[0;34m'GovSpending_25601002_department_utf8.csv'\u001b[0m\u001b[0;34m,\u001b[0m \u001b[0musecols\u001b[0m\u001b[0;34m=\u001b[0m\u001b[0;34m[\u001b[0m\u001b[0;34m'subdep_name'\u001b[0m\u001b[0;34m,\u001b[0m\u001b[0;34m'org_name'\u001b[0m\u001b[0;34m,\u001b[0m\u001b[0;34m'provnc'\u001b[0m\u001b[0;34m]\u001b[0m\u001b[0;34m)\u001b[0m\u001b[0;34m\u001b[0m\u001b[0m\n",
      "\u001b[0;32m/usr/local/lib/python3.5/dist-packages/pandas/io/parsers.py\u001b[0m in \u001b[0;36mparser_f\u001b[0;34m(filepath_or_buffer, sep, delimiter, header, names, index_col, usecols, squeeze, prefix, mangle_dupe_cols, dtype, engine, converters, true_values, false_values, skipinitialspace, skiprows, nrows, na_values, keep_default_na, na_filter, verbose, skip_blank_lines, parse_dates, infer_datetime_format, keep_date_col, date_parser, dayfirst, iterator, chunksize, compression, thousands, decimal, lineterminator, quotechar, quoting, escapechar, comment, encoding, dialect, tupleize_cols, error_bad_lines, warn_bad_lines, skipfooter, skip_footer, doublequote, delim_whitespace, as_recarray, compact_ints, use_unsigned, low_memory, buffer_lines, memory_map, float_precision)\u001b[0m\n\u001b[1;32m    703\u001b[0m                     skip_blank_lines=skip_blank_lines)\n\u001b[1;32m    704\u001b[0m \u001b[0;34m\u001b[0m\u001b[0m\n\u001b[0;32m--> 705\u001b[0;31m         \u001b[0;32mreturn\u001b[0m \u001b[0m_read\u001b[0m\u001b[0;34m(\u001b[0m\u001b[0mfilepath_or_buffer\u001b[0m\u001b[0;34m,\u001b[0m \u001b[0mkwds\u001b[0m\u001b[0;34m)\u001b[0m\u001b[0;34m\u001b[0m\u001b[0m\n\u001b[0m\u001b[1;32m    706\u001b[0m \u001b[0;34m\u001b[0m\u001b[0m\n\u001b[1;32m    707\u001b[0m     \u001b[0mparser_f\u001b[0m\u001b[0;34m.\u001b[0m\u001b[0m__name__\u001b[0m \u001b[0;34m=\u001b[0m \u001b[0mname\u001b[0m\u001b[0;34m\u001b[0m\u001b[0m\n",
      "\u001b[0;32m/usr/local/lib/python3.5/dist-packages/pandas/io/parsers.py\u001b[0m in \u001b[0;36m_read\u001b[0;34m(filepath_or_buffer, kwds)\u001b[0m\n\u001b[1;32m    443\u001b[0m \u001b[0;34m\u001b[0m\u001b[0m\n\u001b[1;32m    444\u001b[0m     \u001b[0;31m# Create the parser.\u001b[0m\u001b[0;34m\u001b[0m\u001b[0;34m\u001b[0m\u001b[0m\n\u001b[0;32m--> 445\u001b[0;31m     \u001b[0mparser\u001b[0m \u001b[0;34m=\u001b[0m \u001b[0mTextFileReader\u001b[0m\u001b[0;34m(\u001b[0m\u001b[0mfilepath_or_buffer\u001b[0m\u001b[0;34m,\u001b[0m \u001b[0;34m**\u001b[0m\u001b[0mkwds\u001b[0m\u001b[0;34m)\u001b[0m\u001b[0;34m\u001b[0m\u001b[0m\n\u001b[0m\u001b[1;32m    446\u001b[0m \u001b[0;34m\u001b[0m\u001b[0m\n\u001b[1;32m    447\u001b[0m     \u001b[0;32mif\u001b[0m \u001b[0mchunksize\u001b[0m \u001b[0;32mor\u001b[0m \u001b[0miterator\u001b[0m\u001b[0;34m:\u001b[0m\u001b[0;34m\u001b[0m\u001b[0m\n",
      "\u001b[0;32m/usr/local/lib/python3.5/dist-packages/pandas/io/parsers.py\u001b[0m in \u001b[0;36m__init__\u001b[0;34m(self, f, engine, **kwds)\u001b[0m\n\u001b[1;32m    812\u001b[0m             \u001b[0mself\u001b[0m\u001b[0;34m.\u001b[0m\u001b[0moptions\u001b[0m\u001b[0;34m[\u001b[0m\u001b[0;34m'has_index_names'\u001b[0m\u001b[0;34m]\u001b[0m \u001b[0;34m=\u001b[0m \u001b[0mkwds\u001b[0m\u001b[0;34m[\u001b[0m\u001b[0;34m'has_index_names'\u001b[0m\u001b[0;34m]\u001b[0m\u001b[0;34m\u001b[0m\u001b[0m\n\u001b[1;32m    813\u001b[0m \u001b[0;34m\u001b[0m\u001b[0m\n\u001b[0;32m--> 814\u001b[0;31m         \u001b[0mself\u001b[0m\u001b[0;34m.\u001b[0m\u001b[0m_make_engine\u001b[0m\u001b[0;34m(\u001b[0m\u001b[0mself\u001b[0m\u001b[0;34m.\u001b[0m\u001b[0mengine\u001b[0m\u001b[0;34m)\u001b[0m\u001b[0;34m\u001b[0m\u001b[0m\n\u001b[0m\u001b[1;32m    815\u001b[0m \u001b[0;34m\u001b[0m\u001b[0m\n\u001b[1;32m    816\u001b[0m     \u001b[0;32mdef\u001b[0m \u001b[0mclose\u001b[0m\u001b[0;34m(\u001b[0m\u001b[0mself\u001b[0m\u001b[0;34m)\u001b[0m\u001b[0;34m:\u001b[0m\u001b[0;34m\u001b[0m\u001b[0m\n",
      "\u001b[0;32m/usr/local/lib/python3.5/dist-packages/pandas/io/parsers.py\u001b[0m in \u001b[0;36m_make_engine\u001b[0;34m(self, engine)\u001b[0m\n\u001b[1;32m   1043\u001b[0m     \u001b[0;32mdef\u001b[0m \u001b[0m_make_engine\u001b[0m\u001b[0;34m(\u001b[0m\u001b[0mself\u001b[0m\u001b[0;34m,\u001b[0m \u001b[0mengine\u001b[0m\u001b[0;34m=\u001b[0m\u001b[0;34m'c'\u001b[0m\u001b[0;34m)\u001b[0m\u001b[0;34m:\u001b[0m\u001b[0;34m\u001b[0m\u001b[0m\n\u001b[1;32m   1044\u001b[0m         \u001b[0;32mif\u001b[0m \u001b[0mengine\u001b[0m \u001b[0;34m==\u001b[0m \u001b[0;34m'c'\u001b[0m\u001b[0;34m:\u001b[0m\u001b[0;34m\u001b[0m\u001b[0m\n\u001b[0;32m-> 1045\u001b[0;31m             \u001b[0mself\u001b[0m\u001b[0;34m.\u001b[0m\u001b[0m_engine\u001b[0m \u001b[0;34m=\u001b[0m \u001b[0mCParserWrapper\u001b[0m\u001b[0;34m(\u001b[0m\u001b[0mself\u001b[0m\u001b[0;34m.\u001b[0m\u001b[0mf\u001b[0m\u001b[0;34m,\u001b[0m \u001b[0;34m**\u001b[0m\u001b[0mself\u001b[0m\u001b[0;34m.\u001b[0m\u001b[0moptions\u001b[0m\u001b[0;34m)\u001b[0m\u001b[0;34m\u001b[0m\u001b[0m\n\u001b[0m\u001b[1;32m   1046\u001b[0m         \u001b[0;32melse\u001b[0m\u001b[0;34m:\u001b[0m\u001b[0;34m\u001b[0m\u001b[0m\n\u001b[1;32m   1047\u001b[0m             \u001b[0;32mif\u001b[0m \u001b[0mengine\u001b[0m \u001b[0;34m==\u001b[0m \u001b[0;34m'python'\u001b[0m\u001b[0;34m:\u001b[0m\u001b[0;34m\u001b[0m\u001b[0m\n",
      "\u001b[0;32m/usr/local/lib/python3.5/dist-packages/pandas/io/parsers.py\u001b[0m in \u001b[0;36m__init__\u001b[0;34m(self, src, **kwds)\u001b[0m\n\u001b[1;32m   1682\u001b[0m         \u001b[0mkwds\u001b[0m\u001b[0;34m[\u001b[0m\u001b[0;34m'allow_leading_cols'\u001b[0m\u001b[0;34m]\u001b[0m \u001b[0;34m=\u001b[0m \u001b[0mself\u001b[0m\u001b[0;34m.\u001b[0m\u001b[0mindex_col\u001b[0m \u001b[0;32mis\u001b[0m \u001b[0;32mnot\u001b[0m \u001b[0;32mFalse\u001b[0m\u001b[0;34m\u001b[0m\u001b[0m\n\u001b[1;32m   1683\u001b[0m \u001b[0;34m\u001b[0m\u001b[0m\n\u001b[0;32m-> 1684\u001b[0;31m         \u001b[0mself\u001b[0m\u001b[0;34m.\u001b[0m\u001b[0m_reader\u001b[0m \u001b[0;34m=\u001b[0m \u001b[0mparsers\u001b[0m\u001b[0;34m.\u001b[0m\u001b[0mTextReader\u001b[0m\u001b[0;34m(\u001b[0m\u001b[0msrc\u001b[0m\u001b[0;34m,\u001b[0m \u001b[0;34m**\u001b[0m\u001b[0mkwds\u001b[0m\u001b[0;34m)\u001b[0m\u001b[0;34m\u001b[0m\u001b[0m\n\u001b[0m\u001b[1;32m   1685\u001b[0m \u001b[0;34m\u001b[0m\u001b[0m\n\u001b[1;32m   1686\u001b[0m         \u001b[0;31m# XXX\u001b[0m\u001b[0;34m\u001b[0m\u001b[0;34m\u001b[0m\u001b[0m\n",
      "\u001b[0;32mpandas/_libs/parsers.pyx\u001b[0m in \u001b[0;36mpandas._libs.parsers.TextReader.__cinit__\u001b[0;34m()\u001b[0m\n",
      "\u001b[0;32mpandas/_libs/parsers.pyx\u001b[0m in \u001b[0;36mpandas._libs.parsers.TextReader._setup_parser_source\u001b[0;34m()\u001b[0m\n",
      "\u001b[0;31mFileNotFoundError\u001b[0m: File b'GovSpending_25601002_contract_utf8.csv' does not exist"
     ]
    }
   ],
   "source": [
    "# original data from https://data.go.th/DatasetDetail.aspx?id=de82938b-361e-412c-bf30-4a4f2c5e6c3a\n",
    "# note: the original data was re-encoded to utf8 to work with pandas\n",
    "govSpendCntrct = pd.read_csv('GovSpending_25601002_contract_utf8.csv', \n",
    "                   usecols=['proj_no','proj_name','subdep_name','corp_name',\n",
    "                            'mthd_name', 'typ_name','contrct_price','contrct_date'])\n",
    "\n",
    "subdep_provnc = pd.read_csv('GovSpending_25601002_department_utf8.csv', usecols=['subdep_name','org_name','provnc'])\n",
    "\n",
    "govSpendCntrct = govSpendCntrct.merge(subdep_provnc, 'left', on='subdep_name')\n",
    "govSpendCntrct = govSpendCntrct[['proj_no', 'proj_name', 'subdep_name', 'org_name', 'provnc', 'mthd_name', 'typ_name', 'corp_name', 'contrct_price','contrct_date']]"
   ]
  },
  {
   "cell_type": "code",
   "execution_count": null,
   "metadata": {},
   "outputs": [],
   "source": [
    "govSpendCntrct['contrct_date'] = pd.to_datetime(govSpendCntrct['contrct_date'], dayfirst=True)"
   ]
  },
  {
   "cell_type": "code",
   "execution_count": null,
   "metadata": {},
   "outputs": [],
   "source": [
    "print('Data from:', govSpendCntrct['contrct_date'].min())\n",
    "print('Data to:', govSpendCntrct['contrct_date'].max())\n",
    "print('Total government spending (THB):', govSpendCntrct['contrct_price'].sum())\n",
    "print('Total orders:', govSpendCntrct.shape[0])"
   ]
  },
  {
   "cell_type": "code",
   "execution_count": null,
   "metadata": {},
   "outputs": [],
   "source": [
    "govSpendCntrct.sample(5)"
   ]
  },
  {
   "cell_type": "code",
   "execution_count": null,
   "metadata": {},
   "outputs": [],
   "source": [
    "get_col = ['proj_name','subdep_name','org_name','provnc','mthd_name','typ_name','corp_name','contrct_price']\n",
    "govSpendCntrct.sort_values('contrct_price', ascending=False)[get_col].head(20)"
   ]
  },
  {
   "cell_type": "markdown",
   "metadata": {},
   "source": [
    "## Plot relationship between corp_name and contract"
   ]
  },
  {
   "cell_type": "code",
   "execution_count": null,
   "metadata": {},
   "outputs": [],
   "source": [
    "list_to_group = ['corp_name']\n",
    "target = ['contrct_price']\n",
    "\n",
    "sum_contrct = govSpendCntrct[list_to_group+target].groupby(list_to_group).sum().sort_values(target,ascending=False)\n",
    "count_contrct = govSpendCntrct[list_to_group+target].groupby(list_to_group).count().sort_values(target,ascending=False)\n",
    "\n",
    "costPerContrct = (sum_contrct/count_contrct).sort_values(target,ascending=False)"
   ]
  },
  {
   "cell_type": "code",
   "execution_count": null,
   "metadata": {},
   "outputs": [],
   "source": [
    "start_date = govSpendCntrct['contrct_date'].min().strftime('%Y/%m/%d')\n",
    "end_date = govSpendCntrct['contrct_date'].max().strftime('%Y/%m/%d')\n",
    "\n",
    "count_total = count_contrct.sum()\n",
    "sum_total = sum_contrct.sum()\n",
    "\n",
    "count_contrct = count_contrct[:15]\n",
    "sum_contrct = sum_contrct[:15]\n",
    "costPerContrct = costPerContrct[:15]\n",
    "\n",
    "marker = dict(color='rgb(158,202,225)',\n",
    "              line=dict(color='rgb(8,48,107)',width=1.5),\n",
    "             )\n",
    "\n",
    "# if would like rainbow color\n",
    "barcolors = ['hsl('+str(h)+',50%'+',50%)' for h in range(0, 360, int(360/count_contrct.shape[0]))]\n",
    "edgescolors = ['hsl('+str(h)+',100%'+',20%)' for h in range(0, 360, int(360/count_contrct.shape[0]))]\n",
    "marker = dict(color=barcolors,\n",
    "              line=dict(color=edgescolors,width=1.5),\n",
    "             )\n",
    "\n",
    "trace_count = Bar(\n",
    "                x=count_contrct.index,\n",
    "                y=count_contrct['contrct_price'],\n",
    "                text=['%.2f%% of total' % percent[0] for percent in (count_contrct/count_total*100).values],\n",
    "                marker=marker,\n",
    "                opacity=0.7,\n",
    "                name='count'\n",
    "                )\n",
    "trace_sum = Bar(\n",
    "                x=sum_contrct.index,\n",
    "                y=sum_contrct['contrct_price'],\n",
    "                text=['%.2f%% of total' % percent[0] for percent in (sum_contrct/sum_total*100).values],\n",
    "                marker=marker,\n",
    "                opacity=0.7,\n",
    "                name='sum value'\n",
    "                )\n",
    "trace_avg = Bar(\n",
    "                x=costPerContrct.index,\n",
    "                y=costPerContrct['contrct_price'],\n",
    "                marker=marker,\n",
    "                opacity=0.7,\n",
    "                name='per contract'\n",
    "                )\n",
    "\n",
    "fig = tools.make_subplots(rows=2, cols=2, specs=[[{}, {}], [{'colspan': 2}, None]], \n",
    "                          vertical_spacing=0.2,\n",
    "                          subplot_titles=('15 บริษัทที่ได้จำนวนสัญญาจัดซื้อรวมสูงสุด',\n",
    "                                          '15 บริษัทที่ได้รับมูลค่าสัญญารวมสูงสุด',\n",
    "                                          '15 บริษัทที่มีมูลค่าจัดซื้อต่อสัญญาสูงสุด'))\n",
    "\n",
    "fig.append_trace(trace_count, 1, 1)\n",
    "fig.append_trace(trace_sum, 1, 2)\n",
    "fig.append_trace(trace_avg, 2, 1)\n",
    "\n",
    "fig['layout'].update(height=460, width=700, \n",
    "                     title='สรุปคำสั่งและงบประมาณการจัดซื้อของหน่วยงานรัฐบาล ({} ถึง {})'.format(start_date, end_date), \n",
    "                     showlegend=False, plot_bgcolor='rgb(256,256,256)',\n",
    "                     font=dict(size=11)\n",
    "                    )\n",
    "\n",
    "fig['layout']['annotations'][0]['font'].update(size=13)\n",
    "fig['layout']['annotations'][1]['font'].update(size=13)\n",
    "fig['layout']['annotations'][2]['font'].update(size=14)\n",
    "\n",
    "fig['layout']['yaxis1'].update(title='จำนวนรวม (สัญญา)')\n",
    "fig['layout']['yaxis2'].update(title='มูลค่ารวม (บาท)')\n",
    "fig['layout']['yaxis3'].update(title='มูลค่าต่อสัญญา (บาท/สัญญา)')\n",
    "\n",
    "fig['layout']['xaxis1'].update(showticklabels=True,tickfont=dict(size=6),tickangle=20)\n",
    "fig['layout']['xaxis2'].update(showticklabels=True,tickfont=dict(size=6),tickangle=20)\n",
    "fig['layout']['xaxis3'].update(showticklabels=True,tickfont=dict(size=10),tickangle=20)\n",
    "\n",
    "fig['layout']['annotations'][2]['y'] = 0.35\n",
    "\n",
    "py.iplot(fig)\n",
    "# py.plot(fig, filename='summaryByCompany.html')"
   ]
  },
  {
   "cell_type": "markdown",
   "metadata": {},
   "source": [
    "## Relationship between org_name and contract"
   ]
  },
  {
   "cell_type": "code",
   "execution_count": null,
   "metadata": {},
   "outputs": [],
   "source": [
    "list_to_group = ['org_name']\n",
    "target = ['contrct_price']\n",
    "\n",
    "sum_contrct = govSpendCntrct[list_to_group+target].groupby(list_to_group).sum().sort_values(target,ascending=False)\n",
    "count_contrct = govSpendCntrct[list_to_group+target].groupby(list_to_group).count().sort_values(target,ascending=False)\n",
    "\n",
    "costPerContrct = (sum_contrct/count_contrct).sort_values(target,ascending=False)"
   ]
  },
  {
   "cell_type": "code",
   "execution_count": null,
   "metadata": {},
   "outputs": [],
   "source": [
    "start_date = govSpendCntrct['contrct_date'].min().strftime('%Y/%m/%d')\n",
    "end_date = govSpendCntrct['contrct_date'].max().strftime('%Y/%m/%d')\n",
    "\n",
    "count_total = count_contrct.sum()\n",
    "sum_total = sum_contrct.sum()\n",
    "\n",
    "marker = dict(color='rgb(158,202,225)',\n",
    "              line=dict(color='rgb(8,48,107)',width=1.5),\n",
    "             )\n",
    "\n",
    "# if would like rainbow color\n",
    "barcolors = ['hsl('+str(h)+',50%'+',50%)' for h in range(0, 360, int(360/count_contrct.shape[0]))]\n",
    "edgescolors = ['hsl('+str(h)+',100%'+',20%)' for h in range(0, 360, int(360/count_contrct.shape[0]))]\n",
    "marker = dict(color=barcolors,\n",
    "              line=dict(color=edgescolors,width=1.5),\n",
    "             )\n",
    "\n",
    "trace_count = Bar(\n",
    "                x=count_contrct.index,\n",
    "                y=count_contrct['contrct_price'],\n",
    "                text=['%.2f%% of total' % percent[0] for percent in (count_contrct/count_total*100).values],\n",
    "                marker=marker,\n",
    "                opacity=0.7,\n",
    "                name='count'\n",
    "                )\n",
    "trace_sum = Bar(\n",
    "                x=sum_contrct.index,\n",
    "                y=sum_contrct['contrct_price'],\n",
    "                text=['%.2f%% of total' % percent[0] for percent in (sum_contrct/sum_total*100).values],\n",
    "                marker=marker,\n",
    "                opacity=0.7,\n",
    "                name='sum value'\n",
    "                )\n",
    "trace_avg = Bar(\n",
    "                x=costPerContrct.index,\n",
    "                y=costPerContrct['contrct_price'],\n",
    "                marker=marker,\n",
    "                opacity=0.7,\n",
    "                name='per contract'\n",
    "                )\n",
    "\n",
    "fig = tools.make_subplots(rows=2, cols=2, specs=[[{}, {}], [{'colspan': 2}, None]], \n",
    "                          vertical_spacing=0.25,\n",
    "                          subplot_titles=('จำนวนสัญญาจัดซื้อรวมเรียงตามหน่วยงาน',\n",
    "                                          'มูลค่าสัญญาจัดซื้อรวมเรียงตามหน่วยงาน',\n",
    "                                          'มูลค่าสัญญาจัดซื้อต่อสัญญาเฉลี่ยเรียงตามหน่วยงาน')\n",
    "                         )\n",
    "\n",
    "fig.append_trace(trace_count, 1, 1)\n",
    "fig.append_trace(trace_sum, 1, 2)\n",
    "fig.append_trace(trace_avg, 2, 1)\n",
    "\n",
    "fig['layout'].update(height=460, width=700, \n",
    "                     title='สรุปคำสั่งและงบประมาณการจัดซื้อของหน่วยงานรัฐบาล ({} ถึง {})'.format(start_date, end_date), \n",
    "                     showlegend=False, plot_bgcolor='rgb(256,256,256)',\n",
    "                     font=dict(size=11)\n",
    "                    )\n",
    "\n",
    "fig['layout']['annotations'][0]['font'].update(size=13)\n",
    "fig['layout']['annotations'][1]['font'].update(size=13)\n",
    "fig['layout']['annotations'][2]['font'].update(size=14)\n",
    "\n",
    "fig['layout']['yaxis1'].update(title='จำนวนรวม (สัญญา)')\n",
    "fig['layout']['yaxis2'].update(title='มูลค่ารวม (บาท)')\n",
    "fig['layout']['yaxis3'].update(title='มูลค่าต่อสัญญา (บาท/สัญญา)')\n",
    "\n",
    "fig['layout']['xaxis1'].update(showticklabels=True,tickfont=dict(size=6),tickangle=20)\n",
    "fig['layout']['xaxis2'].update(showticklabels=True,tickfont=dict(size=6),tickangle=20)\n",
    "fig['layout']['xaxis3'].update(showticklabels=True,tickfont=dict(size=10),tickangle=20)\n",
    "\n",
    "fig['layout']['annotations'][2]['y'] = 0.35\n",
    "\n",
    "py.iplot(fig)\n",
    "# py.plot(fig, filename='summaryByOrg.html')"
   ]
  },
  {
   "cell_type": "markdown",
   "metadata": {},
   "source": [
    "## Relationship between org_name and avg_contrct_price"
   ]
  },
  {
   "cell_type": "code",
   "execution_count": null,
   "metadata": {
    "scrolled": false
   },
   "outputs": [],
   "source": [
    "n_sampling = 100\n",
    "x_data = costPerContrct.index\n",
    "\n",
    "# if would like rainbow color\n",
    "barcolors = ['hsl('+str(h)+',50%'+',50%)' for h in range(0, 360, int(360/count_contrct.shape[0]))]\n",
    "edgescolors = ['hsl('+str(h)+',100%'+',20%)' for h in range(0, 360, int(360/count_contrct.shape[0]))]\n",
    "marker = dict(color=barcolors,\n",
    "              line=dict(color=edgescolors,width=1.5),\n",
    "             )\n",
    "traces = []\n",
    "hover_text = []\n",
    "\n",
    "for xd, cls in zip(x_data, barcolors):\n",
    "    temp_df = govSpendCntrct.loc[govSpendCntrct['org_name']=='หน่วยงานอื่นของรัฐที่จัดตั้งโดยกฎหมายเฉพาะ','contrct_price']\n",
    "    q1_mark = temp_df.quantile(0.25)\n",
    "    q3_mark = temp_df.quantile(0.75)\n",
    "    \n",
    "    hover_text.append('{}:<br>Mean={:.0f}k<br>Q3={:.0f}k<br>median={:.0f}k<br>Q1={:.0f}k'.format(\n",
    "        xd,temp_df.mean()/1000,q3_mark/1000,temp_df.median()/1000,q1_mark/1000))\n",
    "    \n",
    "    hover_text_temp = '{}:<br>Mean={:.0f}k<br>Q3={:.0f}k<br>median={:.0f}k<br>Q1={:.0f}k'.format(\n",
    "        xd,temp_df.mean()/1000,q3_mark/1000,temp_df.median()/1000,q1_mark/1000)\n",
    "    \n",
    "    traces.append(Box(\n",
    "                    y=temp_df.sample(n_sampling),\n",
    "                    name=xd,\n",
    "                    boxpoints='all',\n",
    "                    pointpos=0,\n",
    "                    jitter=1,\n",
    "                    whiskerwidth=0.2,\n",
    "                    marker=dict(color=cls, size=4),\n",
    "                    opacity=0.5, \n",
    "                    fillcolor='rgba(0,0,0,0)',\n",
    "                    line=dict(color='rgba(0,0,0,0)'),\n",
    "                    text=hover_text_temp,\n",
    "                    hoverinfo='text'\n",
    "                    )\n",
    "                 )\n",
    "\n",
    "    temp_df.loc[temp_df<=q1_mark] = q1_mark\n",
    "    temp_df.loc[temp_df>=q3_mark] = q3_mark\n",
    "    \n",
    "    # use this to make the box plot instead of using the whole temp_df (with 8xx,xxx data points)\n",
    "    # since a box plot keeps all data points even when the points are hidden --> large file size\n",
    "    temp_box = pd.Series([q1_mark]*5+[temp_df.mean()]+[q3_mark]*5)\n",
    "    \n",
    "    traces.append(Box(\n",
    "#                     y=temp_df,\n",
    "                    y=temp_box,\n",
    "                    name=xd,\n",
    "                    boxpoints=False,\n",
    "                    whiskerwidth=0.2,\n",
    "                    opacity=0.7, \n",
    "                    line=dict(color=cls),\n",
    "                    hoverinfo='none'\n",
    "                    )\n",
    "                 )\n",
    "\n",
    "    \n",
    "traces.append(Bar(\n",
    "                x=costPerContrct.index,\n",
    "                y=costPerContrct['contrct_price'],\n",
    "                marker=marker,\n",
    "                opacity=0.2,\n",
    "                name='average',\n",
    "                text=hover_text,\n",
    "                hoverinfo='none'\n",
    "                )\n",
    "             )    \n",
    "        \n",
    "layout = Layout(\n",
    "    title='มูลค่าสัญญาจัดซื้อเฉลี่ยและการกระจายตัว (บาท/สัญญา)',\n",
    "    showlegend=False,\n",
    "    width=600,\n",
    "    height=400,\n",
    "    font=dict(size=11),\n",
    "    yaxis=dict(\n",
    "        range=[0, 11e6]\n",
    "    )\n",
    ")\n",
    "\n",
    "fig = Figure(data=traces, layout=layout)\n",
    "py.iplot(fig)\n",
    "# py.plot(fig, filename='spendingDistributionByOrg.html')"
   ]
  },
  {
   "cell_type": "markdown",
   "metadata": {},
   "source": [
    "## Thailand map"
   ]
  },
  {
   "cell_type": "code",
   "execution_count": null,
   "metadata": {},
   "outputs": [],
   "source": [
    "# original data from https://github.com/apisit/thailand.json\n",
    "gdf = gpd.read_file('thailand.json')\n",
    "gdf.columns = ['Province','geometry']\n",
    "\n",
    "gdf.plot()\n",
    "plt.show()"
   ]
  },
  {
   "cell_type": "markdown",
   "metadata": {},
   "source": [
    "## Thailand Referendum 2016"
   ]
  },
  {
   "cell_type": "code",
   "execution_count": null,
   "metadata": {},
   "outputs": [],
   "source": [
    "# original data from https://data.go.th/DatasetDetail.aspx?id=8d13d593-aea4-40b9-ad78-884da8a49e35\n",
    "# note: the original data was re-encoded to utf8 to work with pandas\n",
    "df = pd.read_csv('ThailandReferendum2016_regular.csv', skiprows=3, header=[0,1])\n",
    "province_pair = pd.read_csv('thaiProvinces.csv', header=None, names=['จังหวัด','Province'])\n",
    "\n",
    "arrays = [['จังหวัด', 'ภาค', 'ผู้มีสิทธิออกเสียง', 'ผู้มาใช้สิทธิออกเสียง', 'มาใช้สิทธิ์ร้อยละ', \n",
    "           'ประเด็นที่ 1 ร่างรัฐธรรมนูญ', 'ประเด็นที่ 1 ร่างรัฐธรรมนูญ', 'ประเด็นที่ 1 ร่างรัฐธรรมนูญ', 'ประเด็นที่ 1 ร่างรัฐธรรมนูญ', \n",
    "           'ประเด็นที่ 2 คำถามเพิ่มเติม', 'ประเด็นที่ 2 คำถามเพิ่มเติม', 'ประเด็นที่ 2 คำถามเพิ่มเติม', 'ประเด็นที่ 2 คำถามเพิ่มเติม', \n",
    "           'บัตรเสีย', 'บัตรเสียร้อยละ'],\n",
    "          ['', '', '', '', '', \n",
    "           'เห็นชอบ', 'เห็นชอบร้อยละ', 'ไม่เห็นชอบ', 'ไม่เห็นชอบร้อยละ', \n",
    "           'เห็นชอบ', 'เห็นชอบร้อยละ', 'ไม่เห็นชอบ', 'ไม่เห็นชอบร้อยละ',\n",
    "           '', '']]\n",
    "\n",
    "tuples = list(zip(*arrays))\n",
    "columns = pd.MultiIndex.from_tuples(tuples)\n",
    "\n",
    "df.columns = columns\n",
    "df.columns = [' '.join(col).strip() for col in df.columns.values]\n",
    "columns = np.insert(df.columns.values, 1, 'Province')\n",
    "\n",
    "df = pd.merge(df, province_pair, 'inner', 'จังหวัด')\n",
    "df = df[columns]"
   ]
  },
  {
   "cell_type": "markdown",
   "metadata": {},
   "source": [
    "## Merge geo and referendum data"
   ]
  },
  {
   "cell_type": "code",
   "execution_count": null,
   "metadata": {},
   "outputs": [],
   "source": [
    "gdf = pd.merge(gdf, df, 'inner', on='Province')"
   ]
  },
  {
   "cell_type": "markdown",
   "metadata": {},
   "source": [
    "## Relationship between province and contract"
   ]
  },
  {
   "cell_type": "code",
   "execution_count": null,
   "metadata": {},
   "outputs": [],
   "source": [
    "temp = govSpendCntrct[['provnc','contrct_price']].groupby('provnc').sum()\n",
    "gdf = pd.merge(gdf, temp, 'inner', left_on='จังหวัด', right_index=True)\n",
    "map_df = pd.merge(gdf[['Province','geometry','จังหวัด','ผู้มีสิทธิออกเสียง']], temp, 'inner', left_on='จังหวัด', right_index=True)"
   ]
  },
  {
   "cell_type": "code",
   "execution_count": null,
   "metadata": {},
   "outputs": [],
   "source": [
    "map_df.head(5)"
   ]
  },
  {
   "cell_type": "markdown",
   "metadata": {},
   "source": [
    "## Plot relationships between government spending and provinces"
   ]
  },
  {
   "cell_type": "code",
   "execution_count": null,
   "metadata": {},
   "outputs": [],
   "source": [
    "# import a custom made functions to plot plotly maps\n",
    "from plotly_map_gen import *"
   ]
  },
  {
   "cell_type": "code",
   "execution_count": null,
   "metadata": {},
   "outputs": [],
   "source": [
    "# for Medium\n",
    "\n",
    "plot_data1 = []\n",
    "plot_data2 = []\n",
    "\n",
    "# column of interest \n",
    "dataCol = 'contrct_price'\n",
    "\n",
    "# polygon simplification factor\n",
    "simplify_factor=0.03\n",
    "\n",
    "# set location of the colorbar\n",
    "cbar1_x = 0.33\n",
    "cbar1_y = 0.25\n",
    "cbar2_x = 0.74\n",
    "cbar2_y = 0.25\n",
    "\n",
    "#plot type -- 'linear' or 'log'\n",
    "cbar1_type = 'linear'\n",
    "cbar2_type = 'log'\n",
    "\n",
    "# set tick locations and texts on the colorbar\n",
    "cbar1_ticktext = ['1B','5B','10B','50B'] if cbar1_type=='log' else None\n",
    "cbar1_tickvals = np.log10(np.array([1,2,10,50])*1e9) if cbar1_type=='log' else None\n",
    "cbar2_ticktext = ['1B','5B','10B','50B'] if cbar2_type=='log' else None\n",
    "cbar2_tickvals = np.log10(np.array([1,2,10,50])*1e9) if cbar2_type=='log' else None\n",
    "\n",
    "\n",
    "gen_map(plot_data1, map_df, dataCol, simplify_factor, cbar1_x, cbar1_y, cbar1_type, \n",
    "        cbar_tickvals=cbar1_tickvals, cbar_ticktext=cbar1_ticktext, colorbarname='Thai Baht')\n",
    "\n",
    "gen_map(plot_data2, map_df, dataCol, simplify_factor, cbar2_x, cbar2_y, cbar2_type, \n",
    "        cbar_tickvals=cbar2_tickvals, cbar_ticktext=cbar2_ticktext, colorbarname='Thai Baht')\n",
    "\n",
    "##################\n",
    "\n",
    "fig = tools.make_subplots(rows=1, cols=2, specs=[[{}, {}]],\n",
    "                          subplot_titles=('Linear-scale', 'Log-scale'))\n",
    "\n",
    "for e1, e2 in zip(plot_data1,plot_data2):\n",
    "    fig.append_trace(e1, 1, 1)\n",
    "    fig.append_trace(e2, 1, 2)\n",
    "\n",
    "fig['layout'].update(hovermode = 'closest', height=466, width=700, \n",
    "                     title='Sum government spending by province <br>' + \n",
    "                     '({} to {})'.format(start_date, end_date),\n",
    "                     xaxis1 = {'anchor': 'y1', 'domain': [0.15, 0.44]},\n",
    "                     xaxis2 = {'anchor': 'y2', 'domain': [0.56, 0.85]}\n",
    "                    )\n",
    "\n",
    "fig['layout']['annotations'][0]['x'] = 0.29\n",
    "fig['layout']['annotations'][1]['x'] = 0.72\n",
    "\n",
    "py.iplot(fig)"
   ]
  },
  {
   "cell_type": "markdown",
   "metadata": {},
   "source": [
    "## Plot relationships between government spending per eligible voter and provinces"
   ]
  },
  {
   "cell_type": "code",
   "execution_count": null,
   "metadata": {},
   "outputs": [],
   "source": [
    "map_df['contrct_price_per_eligible_voter'] = map_df['contrct_price']/map_df['ผู้มีสิทธิออกเสียง']"
   ]
  },
  {
   "cell_type": "code",
   "execution_count": null,
   "metadata": {},
   "outputs": [],
   "source": [
    "map_df.head(5)"
   ]
  },
  {
   "cell_type": "code",
   "execution_count": null,
   "metadata": {},
   "outputs": [],
   "source": [
    "# for Medium\n",
    "\n",
    "plot_data3 = []\n",
    "plot_data4 = []\n",
    "\n",
    "# column of interest \n",
    "dataCol = 'contrct_price_per_eligible_voter'\n",
    "\n",
    "# polygon simplification factor\n",
    "simplify_factor=0.03\n",
    "\n",
    "# set location of the colorbar\n",
    "cbar3_x = 0.33\n",
    "cbar3_y = 0.25\n",
    "cbar4_x = 0.74\n",
    "cbar4_y = 0.25\n",
    "\n",
    "#plot type -- 'linear' or 'log'\n",
    "cbar3_type = 'linear'\n",
    "cbar4_type = 'log'\n",
    "\n",
    "# set tick locations and texts on the colorbar\n",
    "cbar3_ticktext = ['2k','5k','10k'] if cbar1_type=='log' else None\n",
    "cbar3_tickvals = np.log10(np.array([2,5,10])*1e3) if cbar3_type=='log' else None\n",
    "cbar4_ticktext = ['2k','5k','10k'] if cbar2_type=='log' else None\n",
    "cbar4_tickvals = np.log10(np.array([2,5,10])*1e3) if cbar4_type=='log' else None\n",
    "\n",
    "\n",
    "gen_map(plot_data3, map_df, dataCol, simplify_factor, cbar3_x, cbar3_y, cbar3_type, \n",
    "        cbar_tickvals=cbar3_tickvals, cbar_ticktext=cbar3_ticktext, colorbarname='Thai Baht')\n",
    "\n",
    "gen_map(plot_data4, map_df, dataCol, simplify_factor, cbar4_x, cbar4_y, cbar4_type, \n",
    "        cbar_tickvals=cbar4_tickvals, cbar_ticktext=cbar4_ticktext, colorbarname='Thai Baht')\n",
    "\n",
    "##################\n",
    "\n",
    "fig = tools.make_subplots(rows=1, cols=2, specs=[[{}, {}]],\n",
    "                          subplot_titles=('Linear-scale', 'Log-scale'))\n",
    "\n",
    "for e1, e2 in zip(plot_data3,plot_data4):\n",
    "    fig.append_trace(e1, 1, 1)\n",
    "    fig.append_trace(e2, 1, 2)\n",
    "\n",
    "fig['layout'].update(hovermode = 'closest', height=466, width=700, \n",
    "                     title='Sum government spending per eligible voter by province <br>' + \n",
    "                     '({} to {})'.format(start_date, end_date),\n",
    "                     xaxis1 = {'anchor': 'y1', 'domain': [0.15, 0.44]},\n",
    "                     xaxis2 = {'anchor': 'y2', 'domain': [0.56, 0.85]}\n",
    "                    )\n",
    "\n",
    "fig['layout']['annotations'][0]['x'] = 0.29\n",
    "fig['layout']['annotations'][1]['x'] = 0.72\n",
    "\n",
    "py.iplot(fig)"
   ]
  },
  {
   "cell_type": "markdown",
   "metadata": {},
   "source": [
    "## Creating an opening plot -- combining different types of plots"
   ]
  },
  {
   "cell_type": "code",
   "execution_count": null,
   "metadata": {},
   "outputs": [],
   "source": [
    "# re-create this placeholder plot with correct locations of text, labels, colorbar, etc.\n",
    "\n",
    "plot_data2 = []\n",
    "\n",
    "# column of interest \n",
    "dataCol = 'contrct_price'\n",
    "\n",
    "# polygon simplification factor\n",
    "simplify_factor=0.03\n",
    "\n",
    "# set location of the colorbar\n",
    "cbar2_x = 0.9\n",
    "cbar2_y = 0.25\n",
    "\n",
    "#plot type -- 'linear' or 'log'\n",
    "cbar1_type = 'linear'\n",
    "cbar2_type = 'log'\n",
    "\n",
    "# set tick locations and texts on the colorbar\n",
    "cbar2_ticktext = ['1B','5B','10B','50B'] if cbar2_type=='log' else None\n",
    "cbar2_tickvals = np.log10(np.array([1,2,10,50])*1e9) if cbar2_type=='log' else None\n",
    "\n",
    "gen_map(plot_data2, map_df, dataCol, simplify_factor, cbar2_x, cbar2_y, cbar2_type, \n",
    "        cbar_tickvals=cbar2_tickvals, cbar_ticktext=cbar2_ticktext, colorbarname='Thai Baht')"
   ]
  },
  {
   "cell_type": "code",
   "execution_count": null,
   "metadata": {},
   "outputs": [],
   "source": [
    "fig = tools.make_subplots(rows=1, cols=2, specs=[[{}, {}]],\n",
    "                          subplot_titles=('การกระจายตัว (บาท/สัญญา)', \n",
    "                                          'มูลค่ารวมตามจังหวัด'))\n",
    "\n",
    "# traces were created when plotting the distribution of spending\n",
    "for e1 in traces:\n",
    "    fig.append_trace(e1, 1, 1)\n",
    "\n",
    "# spending by province    \n",
    "for e1 in plot_data2:\n",
    "    fig.append_trace(e1, 1, 2)\n",
    "    \n",
    "fig['layout'].update(hovermode = 'closest', \n",
    "                     height=460, width=700, showlegend=False,\n",
    "                     title='ข้อมูลคำสั่งจัดซื้อจัดจ้างโดยหน่วยงานรัฐบาล <br>' + \n",
    "                     '({} to {})'.format(start_date, end_date),\n",
    "                     xaxis1 = {'anchor': 'y1', 'domain': [0.0, 0.7]},\n",
    "                     yaxis1 = {'range': [0, 11e6]},\n",
    "                     xaxis2 = {'anchor': 'y2', 'domain': [0.73, 1]}\n",
    "                    )\n",
    "\n",
    "fig['layout']['annotations'][0]['x'] = 0.35\n",
    "fig['layout']['annotations'][1]['x'] = 0.86\n",
    "fig['layout']['annotations'][0]['font'].update({'size': 13})\n",
    "fig['layout']['annotations'][1]['font'].update({'size': 13})\n",
    "fig['layout']['xaxis1'].update(showticklabels=True,tickfont=dict(size=9),tickangle=25)\n",
    "\n",
    "py.iplot(fig)\n",
    "# py.plot(fig, filename='openningPlot.html')"
   ]
  },
  {
   "cell_type": "code",
   "execution_count": null,
   "metadata": {},
   "outputs": [],
   "source": []
  }
 ],
 "metadata": {
  "kernelspec": {
   "display_name": "Python 3",
   "language": "python",
   "name": "python3"
  },
  "language_info": {
   "codemirror_mode": {
    "name": "ipython",
    "version": 3
   },
   "file_extension": ".py",
   "mimetype": "text/x-python",
   "name": "python",
   "nbconvert_exporter": "python",
   "pygments_lexer": "ipython3",
   "version": "3.5.2"
  }
 },
 "nbformat": 4,
 "nbformat_minor": 2
}
